{
 "cells": [
  {
   "cell_type": "markdown",
   "metadata": {},
   "source": [
    "#### load dependencies"
   ]
  },
  {
   "cell_type": "code",
   "execution_count": 1,
   "metadata": {},
   "outputs": [
    {
     "name": "stderr",
     "output_type": "stream",
     "text": [
      "C:\\Users\\Munna chowhan\\Anaconda3\\anaconda\\lib\\site-packages\\h5py\\__init__.py:36: FutureWarning: Conversion of the second argument of issubdtype from `float` to `np.floating` is deprecated. In future, it will be treated as `np.float64 == np.dtype(float).type`.\n",
      "  from ._conv import register_converters as _register_converters\n",
      "Using TensorFlow backend.\n"
     ]
    }
   ],
   "source": [
    "import keras\n",
    "from keras.preprocessing.sequence import pad_sequences\n",
    "from keras.layers import Dropout,Dense,Flatten\n",
    "from keras.models import Model\n",
    "from keras.layers import Input,concatenate\n",
    "from keras.layers import Embedding\n",
    "from keras.layers import Conv1D,SpatialDropout1D,GlobalMaxPooling1D\n",
    "from keras.callbacks import ModelCheckpoint\n",
    "import pandas as pd\n",
    "from sklearn.metrics import roc_auc_score\n",
    "import matplotlib.pyplot as plt\n",
    "import os\n",
    "from keras.datasets import imdb\n",
    "%matplotlib inline"
   ]
  },
  {
   "cell_type": "markdown",
   "metadata": {},
   "source": [
    "### set hyperparameters"
   ]
  },
  {
   "cell_type": "code",
   "execution_count": 2,
   "metadata": {},
   "outputs": [],
   "source": [
    "output_dir = \"model_output/Multi_CNN/\"\n",
    "\n",
    "epochs = 4\n",
    "batch_size = 128\n",
    "\n",
    "#embedding layer:\n",
    "n_dims = 64\n",
    "max_review_length = 400\n",
    "n_unique_words = 5000\n",
    "#while padding if the review is < 100 words pad it at the beginning of the review.\n",
    "#while truncating if the review is > 100 cut the review at the beginning\n",
    "pad_type = trunc_type = \"pre\"\n",
    "dropout_embed = 0.2\n",
    "#conv layer:\n",
    "n_conv_1 = n_conv_2 = n_conv_3 = 256\n",
    "k_conv1 = 3\n",
    "k_conv2 = 2\n",
    "k_conv3 = 4\n",
    "\n",
    "#dense_layer:\n",
    "n_dense = 256\n",
    "dropout = 0.2"
   ]
  },
  {
   "cell_type": "markdown",
   "metadata": {},
   "source": [
    "### load data"
   ]
  },
  {
   "cell_type": "code",
   "execution_count": 3,
   "metadata": {},
   "outputs": [],
   "source": [
    "(x_train,y_train),(x_test,y_test) = imdb.load_data(num_words=n_unique_words)"
   ]
  },
  {
   "cell_type": "markdown",
   "metadata": {},
   "source": [
    "### preprocessing data"
   ]
  },
  {
   "cell_type": "code",
   "execution_count": 4,
   "metadata": {},
   "outputs": [],
   "source": [
    "x_train = pad_sequences(x_train,maxlen=max_review_length,padding=pad_type,truncating=trunc_type,value=0)\n",
    "x_test = pad_sequences(x_test,maxlen=max_review_length,padding=pad_type,truncating=trunc_type,value=0)"
   ]
  },
  {
   "cell_type": "markdown",
   "metadata": {},
   "source": [
    "### model architecture(Functional API)"
   ]
  },
  {
   "cell_type": "code",
   "execution_count": 5,
   "metadata": {},
   "outputs": [],
   "source": [
    "input_layer = Input(shape=(max_review_length,),name =\"input\", dtype=\"int16\")\n",
    "embedding_layer  =Embedding(n_unique_words,n_dims,input_length=max_review_length, name=\"embedding\")(input_layer)\n",
    "drop_embed_layer = SpatialDropout1D(dropout_embed, name=\"embed_dropout\")(embedding_layer)\n",
    "\n",
    "conv_1 = Conv1D(n_conv_1, k_conv1,activation=\"relu\", name=\"conv_1\")(drop_embed_layer)\n",
    "max_pool_1 =GlobalMaxPooling1D(name=\"mpool_1\")(conv_1)\n",
    "\n",
    "conv_2 = Conv1D(n_conv_2, k_conv2,activation=\"relu\", name=\"conv_2\")(drop_embed_layer)\n",
    "max_pool_2 =GlobalMaxPooling1D(name=\"mpool_2\")(conv_2)\n",
    "\n",
    "\n",
    "conv_3 = Conv1D(n_conv_3, k_conv3,activation=\"relu\", name=\"conv_3\")(drop_embed_layer)\n",
    "max_pool_3 =GlobalMaxPooling1D(name=\"mpool_3\")(conv_3)\n",
    "\n",
    "concat = concatenate([max_pool_1,max_pool_2,max_pool_3], name=\"concat_layer\")\n",
    "\n",
    "dense_1 = Dense(n_dense,activation=\"relu\",name=\"dense_1\")(concat)\n",
    "dense_drop_1 = Dropout(dropout, name = \"Dense_drop_1\")(dense_1)\n",
    "\n",
    "dense_2 = Dense(n_dense,activation=\"relu\",name=\"dense_2\")(dense_drop_1)\n",
    "dense_drop_2 = Dropout(dropout, name = \"Dense_drop_2\")(dense_2)\n",
    "\n",
    "\n",
    "\n",
    "predictions = Dense(1,activation=\"sigmoid\", name =\"output\")(dense_drop_2)\n",
    "model = Model(input_layer, predictions)"
   ]
  },
  {
   "cell_type": "code",
   "execution_count": null,
   "metadata": {},
   "outputs": [],
   "source": [
    "model.summary()"
   ]
  },
  {
   "cell_type": "code",
   "execution_count": 6,
   "metadata": {},
   "outputs": [],
   "source": [
    "model.compile(optimizer=\"adam\", loss=\"binary_crossentropy\",metrics=[\"accuracy\"])"
   ]
  },
  {
   "cell_type": "markdown",
   "metadata": {},
   "source": [
    "### save the model weights for every epoch"
   ]
  },
  {
   "cell_type": "code",
   "execution_count": 7,
   "metadata": {},
   "outputs": [],
   "source": [
    "modelcheckpoint  = ModelCheckpoint(filepath=output_dir +\"weights.{epoch:02d}.hdf5\")\n",
    "if not os.path.exists(output_dir):\n",
    "    os.makedirs(output_dir)"
   ]
  },
  {
   "cell_type": "markdown",
   "metadata": {},
   "source": [
    "#### train the model"
   ]
  },
  {
   "cell_type": "code",
   "execution_count": 8,
   "metadata": {},
   "outputs": [
    {
     "name": "stdout",
     "output_type": "stream",
     "text": [
      "Train on 25000 samples, validate on 25000 samples\n",
      "Epoch 1/4\n",
      "25000/25000 [==============================] - 717s 29ms/step - loss: 0.4964 - acc: 0.7255 - val_loss: 0.2916 - val_acc: 0.8786\n",
      "Epoch 2/4\n",
      "25000/25000 [==============================] - 628s 25ms/step - loss: 0.2444 - acc: 0.9023 - val_loss: 0.2767 - val_acc: 0.8858\n",
      "Epoch 3/4\n",
      "25000/25000 [==============================] - 628s 25ms/step - loss: 0.1700 - acc: 0.9377 - val_loss: 0.2656 - val_acc: 0.8938\n",
      "Epoch 4/4\n",
      "25000/25000 [==============================] - 629s 25ms/step - loss: 0.1236 - acc: 0.9570 - val_loss: 0.3086 - val_acc: 0.8891\n"
     ]
    },
    {
     "data": {
      "text/plain": [
       "<keras.callbacks.History at 0x2378d3ac438>"
      ]
     },
     "execution_count": 8,
     "metadata": {},
     "output_type": "execute_result"
    }
   ],
   "source": [
    "model.fit(x_train, y_train,batch_size=batch_size,epochs=epochs,validation_data=(x_test,y_test),verbose=1, callbacks=[modelcheckpoint])"
   ]
  },
  {
   "cell_type": "markdown",
   "metadata": {},
   "source": [
    "### load the epoch with highest validation accuracy"
   ]
  },
  {
   "cell_type": "code",
   "execution_count": 9,
   "metadata": {},
   "outputs": [],
   "source": [
    "model.load_weights(filepath=output_dir+\"/weights.02.hdf5\")"
   ]
  },
  {
   "cell_type": "markdown",
   "metadata": {},
   "source": [
    "### predictions probability on test set"
   ]
  },
  {
   "cell_type": "code",
   "execution_count": 12,
   "metadata": {},
   "outputs": [],
   "source": [
    "y_pred = model.predict(x_test)"
   ]
  },
  {
   "cell_type": "code",
   "execution_count": 13,
   "metadata": {},
   "outputs": [
    {
     "data": {
      "text/plain": [
       "array([0.04705636], dtype=float32)"
      ]
     },
     "execution_count": 13,
     "metadata": {},
     "output_type": "execute_result"
    }
   ],
   "source": [
    "y_pred[0]"
   ]
  },
  {
   "cell_type": "code",
   "execution_count": 14,
   "metadata": {},
   "outputs": [
    {
     "data": {
      "image/png": "[encoded data removed]",
      "text/plain": [
       "<Figure size 432x288 with 1 Axes>"
      ]
     },
     "metadata": {},
     "output_type": "display_data"
    }
   ],
   "source": [
    "plt.hist(y_pred)\n",
    "_ = plt.axvline(x = 0.5, color=\"red\")"
   ]
  },
  {
   "cell_type": "code",
   "execution_count": 15,
   "metadata": {},
   "outputs": [],
   "source": [
    "auc = roc_auc_score(y_test,y_pred)*100.0"
   ]
  },
  {
   "cell_type": "code",
   "execution_count": 16,
   "metadata": {},
   "outputs": [
    {
     "data": {
      "text/plain": [
       "96.11724160000001"
      ]
     },
     "execution_count": 16,
     "metadata": {},
     "output_type": "execute_result"
    }
   ],
   "source": [
    "auc"
   ]
  },
  {
   "cell_type": "code",
   "execution_count": null,
   "metadata": {},
   "outputs": [],
   "source": [
    "predicted_sentiment = []\n",
    "for i in y_pred:\n",
    "    predicted_sentiment.append(i[0])"
   ]
  },
  {
   "cell_type": "code",
   "execution_count": null,
   "metadata": {},
   "outputs": [],
   "source": [
    "df = pd.DataFrame(list(zip(predicted_sentiment,y_test)),columns=[\"predicted\",\"real\"])"
   ]
  },
  {
   "cell_type": "code",
   "execution_count": null,
   "metadata": {},
   "outputs": [],
   "source": [
    "df.head()"
   ]
  }
 ],
 "metadata": {
  "kernelspec": {
   "display_name": "Python 3",
   "language": "python",
   "name": "python3"
  },
  "language_info": {
   "codemirror_mode": {
    "name": "ipython",
    "version": 3
   },
   "file_extension": ".py",
   "mimetype": "text/x-python",
   "name": "python",
   "nbconvert_exporter": "python",
   "pygments_lexer": "ipython3",
   "version": "3.6.5"
  }
 },
 "nbformat": 4,
 "nbformat_minor": 2
}
