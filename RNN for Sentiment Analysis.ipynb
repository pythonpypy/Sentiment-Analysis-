{
 "cells": [
  {
   "cell_type": "markdown",
   "metadata": {},
   "source": [
    "#### load dependencies"
   ]
  },
  {
   "cell_type": "code",
   "execution_count": 1,
   "metadata": {},
   "outputs": [],
   "source": [
    "import keras\n",
    "from keras.preprocessing.sequence import pad_sequences\n",
    "from keras.layers import Dropout,Dense,Flatten\n",
    "from keras.models import Sequential\n",
    "from keras.layers import Embedding\n",
    "from keras.layers import SpatialDropout1D\n",
    "from keras.layers import SimpleRNN\n",
    "from keras.callbacks import ModelCheckpoint\n",
    "from sklearn.metrics import roc_auc_score\n",
    "import matplotlib.pyplot as plt\n",
    "import os\n",
    "from keras.datasets import imdb\n",
    "%matplotlib inline"
   ]
  },
  {
   "cell_type": "markdown",
   "metadata": {},
   "source": [
    "### set hyperparameters"
   ]
  },
  {
   "cell_type": "code",
   "execution_count": 2,
   "metadata": {},
   "outputs": [],
   "source": [
    "output_dir = \"model_output/RNN/\"\n",
    "\n",
    "epochs = 16\n",
    "batch_size = 128\n",
    "\n",
    "#embedding layer:\n",
    "n_dims = 64\n",
    "max_review_length = 100\n",
    "# skip top 50 words to skip common words(stopwords are not removed so have to do this)\n",
    "n_words_to_skip = 50\n",
    "n_unique_words = 10000\n",
    "#while padding if the review is < 100 words pad it at the beginning of the review.\n",
    "#while truncating if the review is > 100 cut the review at the beginning\n",
    "pad_type = trunc_type = \"pre\"\n",
    "dropout_embed = 0.2\n",
    "#conv layer:\n",
    "n_rnn = 256\n",
    "dropout_rnn = 0.2\n",
    "\n",
    "\n",
    "#dense_layer:\n",
    "#n_dense = 256\n",
    "#dropout = 0.2"
   ]
  },
  {
   "cell_type": "markdown",
   "metadata": {},
   "source": [
    "#### load the data"
   ]
  },
  {
   "cell_type": "code",
   "execution_count": 3,
   "metadata": {},
   "outputs": [],
   "source": [
    "(x_train,y_train),(x_test,y_test) = imdb.load_data(num_words=n_unique_words)"
   ]
  },
  {
   "cell_type": "markdown",
   "metadata": {},
   "source": [
    "### preprocessing data"
   ]
  },
  {
   "cell_type": "code",
   "execution_count": 4,
   "metadata": {},
   "outputs": [],
   "source": [
    "x_train = pad_sequences(x_train,maxlen=max_review_length,padding=pad_type,truncating=trunc_type,value=0)\n",
    "x_test = pad_sequences(x_test,maxlen=max_review_length,padding=pad_type,truncating=trunc_type,value=0)"
   ]
  },
  {
   "cell_type": "markdown",
   "metadata": {},
   "source": [
    "### model architecture"
   ]
  },
  {
   "cell_type": "code",
   "execution_count": 6,
   "metadata": {},
   "outputs": [],
   "source": [
    "model = Sequential()\n",
    "model.add(Embedding(n_unique_words,n_dims,input_length=max_review_length))\n",
    "model.add(SpatialDropout1D(dropout_embed))\n",
    "model.add(SimpleRNN(units=n_rnn,dropout=dropout_rnn))\n",
    "model.add(Dense(1, activation=\"sigmoid\"))"
   ]
  },
  {
   "cell_type": "code",
   "execution_count": 7,
   "metadata": {},
   "outputs": [
    {
     "name": "stdout",
     "output_type": "stream",
     "text": [
      "_________________________________________________________________\n",
      "Layer (type)                 Output Shape              Param #   \n",
      "=================================================================\n",
      "embedding_1 (Embedding)      (None, 100, 64)           640000    \n",
      "_________________________________________________________________\n",
      "spatial_dropout1d_1 (Spatial (None, 100, 64)           0         \n",
      "_________________________________________________________________\n",
      "simple_rnn_1 (SimpleRNN)     (None, 256)               82176     \n",
      "_________________________________________________________________\n",
      "dense_1 (Dense)              (None, 1)                 257       \n",
      "=================================================================\n",
      "Total params: 722,433\n",
      "Trainable params: 722,433\n",
      "Non-trainable params: 0\n",
      "_________________________________________________________________\n"
     ]
    }
   ],
   "source": [
    "model.summary()"
   ]
  },
  {
   "cell_type": "code",
   "execution_count": 8,
   "metadata": {},
   "outputs": [],
   "source": [
    "model.compile(optimizer=\"adam\", loss=\"binary_crossentropy\",metrics=[\"accuracy\"])"
   ]
  },
  {
   "cell_type": "markdown",
   "metadata": {},
   "source": [
    "#### save the model weights for  every epoch to load the model with high accuracy"
   ]
  },
  {
   "cell_type": "code",
   "execution_count": 9,
   "metadata": {},
   "outputs": [],
   "source": [
    "modelcheckpoint  = ModelCheckpoint(filepath=output_dir +\"weights.{epoch:02d}.hdf5\")\n",
    "if not os.path.exists(output_dir):\n",
    "    os.makedirs(output_dir)"
   ]
  },
  {
   "cell_type": "markdown",
   "metadata": {},
   "source": [
    "### train the model"
   ]
  },
  {
   "cell_type": "code",
   "execution_count": 10,
   "metadata": {},
   "outputs": [
    {
     "name": "stdout",
     "output_type": "stream",
     "text": [
      "Train on 25000 samples, validate on 25000 samples\n",
      "Epoch 1/16\n",
      "25000/25000 [==============================] - 114s 5ms/step - loss: 0.6995 - acc: 0.5149 - val_loss: 0.6857 - val_acc: 0.5250\n",
      "Epoch 2/16\n",
      "25000/25000 [==============================] - 115s 5ms/step - loss: 0.6563 - acc: 0.5932 - val_loss: 0.6442 - val_acc: 0.6002\n",
      "Epoch 3/16\n",
      "25000/25000 [==============================] - 116s 5ms/step - loss: 0.5782 - acc: 0.6933 - val_loss: 0.6485 - val_acc: 0.6227\n",
      "Epoch 4/16\n",
      "25000/25000 [==============================] - 112s 4ms/step - loss: 0.5217 - acc: 0.7330 - val_loss: 0.7405 - val_acc: 0.5764\n",
      "Epoch 5/16\n",
      "25000/25000 [==============================] - 112s 4ms/step - loss: 0.5414 - acc: 0.7204 - val_loss: 0.6937 - val_acc: 0.6025\n",
      "Epoch 6/16\n",
      "25000/25000 [==============================] - 114s 5ms/step - loss: 0.4747 - acc: 0.7661 - val_loss: 0.6518 - val_acc: 0.6034\n",
      "Epoch 7/16\n",
      "25000/25000 [==============================] - 110s 4ms/step - loss: 0.5818 - acc: 0.6969 - val_loss: 0.6519 - val_acc: 0.6050\n",
      "Epoch 8/16\n",
      "25000/25000 [==============================] - 88s 4ms/step - loss: 0.5829 - acc: 0.7011 - val_loss: 0.6450 - val_acc: 0.6090\n",
      "Epoch 9/16\n",
      "25000/25000 [==============================] - 74s 3ms/step - loss: 0.5124 - acc: 0.7381 - val_loss: 0.6401 - val_acc: 0.6617\n",
      "Epoch 10/16\n",
      "25000/25000 [==============================] - 95s 4ms/step - loss: 0.4364 - acc: 0.7950 - val_loss: 0.5463 - val_acc: 0.7455\n",
      "Epoch 11/16\n",
      "25000/25000 [==============================] - 95s 4ms/step - loss: 0.4991 - acc: 0.7472 - val_loss: 0.6465 - val_acc: 0.6237\n",
      "Epoch 12/16\n",
      "25000/25000 [==============================] - 96s 4ms/step - loss: 0.5468 - acc: 0.7315 - val_loss: 0.5933 - val_acc: 0.6843\n",
      "Epoch 13/16\n",
      "25000/25000 [==============================] - 105s 4ms/step - loss: 0.4634 - acc: 0.7803 - val_loss: 0.6676 - val_acc: 0.5812\n",
      "Epoch 14/16\n",
      "25000/25000 [==============================] - 106s 4ms/step - loss: 0.5504 - acc: 0.7182 - val_loss: 0.6307 - val_acc: 0.6567\n",
      "Epoch 15/16\n",
      "25000/25000 [==============================] - 106s 4ms/step - loss: 0.4656 - acc: 0.7774 - val_loss: 0.5888 - val_acc: 0.7100\n",
      "Epoch 16/16\n",
      "25000/25000 [==============================] - 106s 4ms/step - loss: 0.3766 - acc: 0.8418 - val_loss: 0.5442 - val_acc: 0.7495\n"
     ]
    },
    {
     "data": {
      "text/plain": [
       "<keras.callbacks.History at 0x1a089311438>"
      ]
     },
     "execution_count": 10,
     "metadata": {},
     "output_type": "execute_result"
    }
   ],
   "source": [
    "model.fit(x_train, y_train,batch_size=batch_size,epochs=epochs,validation_data=(x_test,y_test),verbose=1, callbacks=[modelcheckpoint])"
   ]
  },
  {
   "cell_type": "markdown",
   "metadata": {},
   "source": [
    "### load the epoch that has high validation accuracy"
   ]
  },
  {
   "cell_type": "code",
   "execution_count": 11,
   "metadata": {},
   "outputs": [],
   "source": [
    "model.load_weights(filepath=output_dir+\"/weights.15.hdf5\")"
   ]
  },
  {
   "cell_type": "markdown",
   "metadata": {},
   "source": [
    "### make predictions on test set"
   ]
  },
  {
   "cell_type": "code",
   "execution_count": 12,
   "metadata": {},
   "outputs": [],
   "source": [
    "y_pred = model.predict_proba(x_test)"
   ]
  },
  {
   "cell_type": "code",
   "execution_count": null,
   "metadata": {},
   "outputs": [],
   "source": [
    "y_pred[0]"
   ]
  },
  {
   "cell_type": "code",
   "execution_count": 13,
   "metadata": {},
   "outputs": [
    {
     "data": {
      "image/png": "[encoded data removed]",
      "text/plain": [
       "<Figure size 432x288 with 1 Axes>"
      ]
     },
     "metadata": {},
     "output_type": "display_data"
    }
   ],
   "source": [
    "plt.hist(y_pred)\n",
    "_ = plt.axvline(x = 0.5, color=\"red\")"
   ]
  },
  {
   "cell_type": "code",
   "execution_count": 14,
   "metadata": {},
   "outputs": [],
   "source": [
    "auc = roc_auc_score(y_test,y_pred)*100.0"
   ]
  },
  {
   "cell_type": "code",
   "execution_count": 15,
   "metadata": {},
   "outputs": [
    {
     "data": {
      "text/plain": [
       "77.45529824"
      ]
     },
     "execution_count": 15,
     "metadata": {},
     "output_type": "execute_result"
    }
   ],
   "source": [
    "auc"
   ]
  },
  {
   "cell_type": "code",
   "execution_count": null,
   "metadata": {},
   "outputs": [],
   "source": [
    "predicted_sentiment = []\n",
    "for i in y_pred:\n",
    "    predicted_sentiment.append(i[0])"
   ]
  },
  {
   "cell_type": "code",
   "execution_count": null,
   "metadata": {},
   "outputs": [],
   "source": [
    "df = pd.DataFrame(list(zip(predicted_sentiment,y_test)),columns=[\"predicted\",\"real\"])"
   ]
  },
  {
   "cell_type": "code",
   "execution_count": null,
   "metadata": {},
   "outputs": [],
   "source": [
    "df.head()"
   ]
  }
 ],
 "metadata": {
  "kernelspec": {
   "display_name": "Python 3",
   "language": "python",
   "name": "python3"
  },
  "language_info": {
   "codemirror_mode": {
    "name": "ipython",
    "version": 3
   },
   "file_extension": ".py",
   "mimetype": "text/x-python",
   "name": "python",
   "nbconvert_exporter": "python",
   "pygments_lexer": "ipython3",
   "version": "3.6.5"
  }
 },
 "nbformat": 4,
 "nbformat_minor": 2
}
